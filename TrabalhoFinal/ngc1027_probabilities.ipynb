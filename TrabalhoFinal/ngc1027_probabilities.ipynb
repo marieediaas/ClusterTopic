{
 "cells": [
  {
   "cell_type": "code",
   "execution_count": 2,
   "id": "43808ee1",
   "metadata": {},
   "outputs": [],
   "source": [
    "import numpy as np\n",
    "import pandas as pd\n",
    "from astropy.io import ascii\n",
    "import os\n",
    "import matplotlib.pyplot as plt\n",
    "from scipy.optimize import curve_fit\n",
    "from cluster_tools import corr_plx, quality_filter, movprop_filter, quality2_filter\n",
    "import cmasher as cmr"
   ]
  },
  {
   "cell_type": "code",
   "execution_count": 4,
   "id": "5d91fe43",
   "metadata": {},
   "outputs": [
    {
     "data": {
      "text/html": [
       "<div><i>Table length=602</i>\n",
       "<table id=\"table135514070821904\" class=\"table-striped table-bordered table-condensed\">\n",
       "<thead><tr><th>RA_ICRS</th><th>DE_ICRS</th><th>Source</th><th>e_RA_ICRS</th><th>e_DE_ICRS</th><th>Plx</th><th>e_Plx</th><th>PM_1</th><th>pmRA</th><th>e_pmRA</th><th>pmDE</th><th>e_pmDE</th><th>Solved</th><th>nueff</th><th>pscol</th><th>RUWE</th><th>Gmag</th><th>BPmag</th><th>RPmag</th><th>BP-RP</th><th>RV</th><th>e_RV</th><th>ELAT</th><th>RAJ2000</th><th>DEJ2000</th><th>phot_bp_rp_excess_factor_2a</th><th>phot_bp_rp_excess_factor_corr</th><th>Plx_corr</th><th>probs_final</th></tr></thead>\n",
       "<thead><tr><th>float64</th><th>float64</th><th>int64</th><th>float64</th><th>float64</th><th>float64</th><th>float64</th><th>float64</th><th>float64</th><th>float64</th><th>float64</th><th>float64</th><th>int64</th><th>float64</th><th>float64</th><th>float64</th><th>float64</th><th>float64</th><th>float64</th><th>float64</th><th>float64</th><th>float64</th><th>float64</th><th>float64</th><th>float64</th><th>float64</th><th>float64</th><th>float64</th><th>float64</th></tr></thead>\n",
       "<tr><td>41.102154</td><td>60.751884</td><td>464819605794855552</td><td>0.0559</td><td>0.0676</td><td>0.616</td><td>0.1034</td><td>2.402</td><td>-1.443</td><td>0.091</td><td>1.92</td><td>0.091</td><td>31</td><td>1.388</td><td>0.0</td><td>1.006</td><td>17.73438</td><td>18.559717</td><td>16.872322</td><td>1.687395</td><td>0.0</td><td>0.0</td><td>42.279453</td><td>41.102165</td><td>60.751877</td><td>1.2702895</td><td>-0.023056831</td><td>0.644894</td><td>0.0</td></tr>\n",
       "<tr><td>40.93392</td><td>60.707798</td><td>464819915032423680</td><td>0.0771</td><td>0.0915</td><td>0.9722</td><td>0.1337</td><td>2.303</td><td>-1.492</td><td>0.13</td><td>1.755</td><td>0.127</td><td>31</td><td>1.332</td><td>0.0</td><td>1.032</td><td>18.265734</td><td>19.336851</td><td>17.237455</td><td>2.099396</td><td>0.0</td><td>0.0</td><td>42.272522</td><td>40.933933</td><td>60.70779</td><td>1.3556436</td><td>0.006881025</td><td>0.997428</td><td>0.0</td></tr>\n",
       "<tr><td>41.971367</td><td>60.869427</td><td>464833766309733248</td><td>0.008</td><td>0.0088</td><td>0.8965</td><td>0.0135</td><td>2.625</td><td>-1.53</td><td>0.013</td><td>2.133</td><td>0.012</td><td>31</td><td>1.545</td><td>0.0</td><td>0.97</td><td>13.546622</td><td>13.889764</td><td>13.031779</td><td>0.857985</td><td>0.0</td><td>0.0</td><td>42.21656</td><td>41.971382</td><td>60.869415</td><td>1.2050198</td><td>0.00063459</td><td>0.9302309999999999</td><td>0.0016</td></tr>\n",
       "<tr><td>41.65688</td><td>60.831924</td><td>464835445634360960</td><td>0.0838</td><td>0.091</td><td>0.5969</td><td>0.1512</td><td>2.42</td><td>-1.698</td><td>0.137</td><td>1.724</td><td>0.119</td><td>31</td><td>1.331</td><td>0.0</td><td>0.971</td><td>18.286827</td><td>19.312056</td><td>17.303177</td><td>2.008879</td><td>0.0</td><td>0.0</td><td>42.243526</td><td>41.656895</td><td>60.831917</td><td>1.3236139</td><td>-0.012531909</td><td>0.621899</td><td>0.0002</td></tr>\n",
       "<tr><td>41.851685</td><td>60.892326</td><td>464836652527754368</td><td>0.0082</td><td>0.0091</td><td>0.9197</td><td>0.0136</td><td>2.608</td><td>-1.809</td><td>0.013</td><td>1.878</td><td>0.012</td><td>31</td><td>1.54</td><td>0.0</td><td>1.006</td><td>12.826741</td><td>13.18269</td><td>12.293089</td><td>0.889601</td><td>0.0</td><td>0.0</td><td>42.260834</td><td>41.8517</td><td>60.89232</td><td>1.2106379</td><td>0.0035945917</td><td>0.941174</td><td>0.0</td></tr>\n",
       "<tr><td>41.83839</td><td>60.91178</td><td>464837408441994624</td><td>0.0172</td><td>0.0211</td><td>0.6646</td><td>0.0313</td><td>3.204</td><td>-2.082</td><td>0.028</td><td>2.435</td><td>0.028</td><td>31</td><td>1.403</td><td>0.0</td><td>0.971</td><td>15.608692</td><td>16.358255</td><td>14.755588</td><td>1.602668</td><td>0.0</td><td>0.0</td><td>42.281254</td><td>41.83841</td><td>60.911774</td><td>1.2871526</td><td>0.0044630626</td><td>0.698924</td><td>0.0</td></tr>\n",
       "<tr><td>...</td><td>...</td><td>...</td><td>...</td><td>...</td><td>...</td><td>...</td><td>...</td><td>...</td><td>...</td><td>...</td><td>...</td><td>...</td><td>...</td><td>...</td><td>...</td><td>...</td><td>...</td><td>...</td><td>...</td><td>...</td><td>...</td><td>...</td><td>...</td><td>...</td><td>...</td><td>...</td><td>...</td><td>...</td></tr>\n",
       "<tr><td>40.610764</td><td>62.316387</td><td>465994056012322816</td><td>0.1005</td><td>0.1224</td><td>0.7535</td><td>0.1611</td><td>3.276</td><td>-2.183</td><td>0.157</td><td>2.443</td><td>0.162</td><td>95</td><td>0.0</td><td>1.3367</td><td>0.998</td><td>18.705412</td><td>19.557</td><td>17.71741</td><td>1.83959</td><td>0.0</td><td>0.0</td><td>43.801617</td><td>40.610786</td><td>62.316376</td><td>1.3767202</td><td>0.06354248</td><td>0.7787569999999999</td><td>0.0001</td></tr>\n",
       "<tr><td>40.35213</td><td>62.384457</td><td>465997118335548672</td><td>0.0113</td><td>0.0147</td><td>0.96</td><td>0.0199</td><td>2.535</td><td>-1.906</td><td>0.019</td><td>1.672</td><td>0.021</td><td>95</td><td>0.0</td><td>1.5934</td><td>1.245</td><td>11.635002</td><td>11.86583</td><td>11.239923</td><td>0.625908</td><td>0.0</td><td>0.0</td><td>43.913765</td><td>40.35215</td><td>62.38445</td><td>1.1920058</td><td>0.004971739</td><td>0.9956229999999999</td><td>0.0</td></tr>\n",
       "<tr><td>40.33314</td><td>62.399323</td><td>465997182748737792</td><td>0.1103</td><td>0.1393</td><td>0.7358</td><td>0.1915</td><td>3.1</td><td>-1.95</td><td>0.175</td><td>2.411</td><td>0.176</td><td>31</td><td>1.373</td><td>0.0</td><td>0.909</td><td>18.82205</td><td>19.695324</td><td>17.912325</td><td>1.782999</td><td>0.0</td><td>0.0</td><td>43.930954</td><td>40.33316</td><td>62.39931</td><td>1.297434</td><td>-0.008272215</td><td>0.753375</td><td>0.0</td></tr>\n",
       "<tr><td>40.929176</td><td>62.43001</td><td>466019207341152256</td><td>0.0233</td><td>0.0276</td><td>0.9167</td><td>0.0369</td><td>2.785</td><td>-2.045</td><td>0.036</td><td>1.891</td><td>0.038</td><td>31</td><td>1.425</td><td>0.0</td><td>1.128</td><td>15.846997</td><td>16.483763</td><td>14.985683</td><td>1.498079</td><td>0.0</td><td>0.0</td><td>43.843212</td><td>40.929195</td><td>62.430004</td><td>1.333971</td><td>0.06401843</td><td>0.9498169999999999</td><td>0.0</td></tr>\n",
       "<tr><td>40.697094</td><td>62.460396</td><td>466021582466214656</td><td>0.0662</td><td>0.0729</td><td>0.6139</td><td>0.1029</td><td>2.602</td><td>-2.154</td><td>0.104</td><td>1.46</td><td>0.101</td><td>31</td><td>1.398</td><td>0.0</td><td>0.987</td><td>17.94505</td><td>18.726357</td><td>17.10479</td><td>1.621567</td><td>0.0</td><td>0.0</td><td>43.91566</td><td>40.697113</td><td>62.46039</td><td>1.265813</td><td>-0.019228302</td><td>0.640252</td><td>0.0</td></tr>\n",
       "<tr><td>40.418877</td><td>62.564526</td><td>466034982764139008</td><td>0.0083</td><td>0.0102</td><td>0.9564</td><td>0.0162</td><td>2.989</td><td>-1.798</td><td>0.015</td><td>2.388</td><td>0.015</td><td>31</td><td>1.53</td><td>0.0</td><td>0.948</td><td>13.865103</td><td>14.244426</td><td>13.308497</td><td>0.935928</td><td>0.0</td><td>0.0</td><td>44.0641</td><td>40.418896</td><td>62.564518</td><td>1.2142115</td><td>0.0031523046</td><td>0.9893660000000001</td><td>0.0003</td></tr>\n",
       "<tr><td>41.80371</td><td>62.45447</td><td>467323507313318784</td><td>0.1184</td><td>0.1305</td><td>0.7424</td><td>0.2034</td><td>2.291</td><td>-1.656</td><td>0.191</td><td>1.584</td><td>0.201</td><td>31</td><td>1.373</td><td>0.0</td><td>1.046</td><td>18.726578</td><td>19.580276</td><td>17.82457</td><td>1.755707</td><td>0.0</td><td>0.0</td><td>43.69822</td><td>41.803726</td><td>62.454464</td><td>1.2964448</td><td>-0.0056984834</td><td>0.761018</td><td>0.0</td></tr>\n",
       "</table></div>"
      ],
      "text/plain": [
       "<Table length=602>\n",
       " RA_ICRS   DE_ICRS        Source       ...      Plx_corr      probs_final\n",
       " float64   float64        int64        ...      float64         float64  \n",
       "--------- --------- ------------------ ... ------------------ -----------\n",
       "41.102154 60.751884 464819605794855552 ...           0.644894         0.0\n",
       " 40.93392 60.707798 464819915032423680 ...           0.997428         0.0\n",
       "41.971367 60.869427 464833766309733248 ... 0.9302309999999999      0.0016\n",
       " 41.65688 60.831924 464835445634360960 ...           0.621899      0.0002\n",
       "41.851685 60.892326 464836652527754368 ...           0.941174         0.0\n",
       " 41.83839  60.91178 464837408441994624 ...           0.698924         0.0\n",
       "      ...       ...                ... ...                ...         ...\n",
       "40.610764 62.316387 465994056012322816 ... 0.7787569999999999      0.0001\n",
       " 40.35213 62.384457 465997118335548672 ... 0.9956229999999999         0.0\n",
       " 40.33314 62.399323 465997182748737792 ...           0.753375         0.0\n",
       "40.929176  62.43001 466019207341152256 ... 0.9498169999999999         0.0\n",
       "40.697094 62.460396 466021582466214656 ...           0.640252         0.0\n",
       "40.418877 62.564526 466034982764139008 ... 0.9893660000000001      0.0003\n",
       " 41.80371  62.45447 467323507313318784 ...           0.761018         0.0"
      ]
     },
     "execution_count": 4,
     "metadata": {},
     "output_type": "execute_result"
    }
   ],
   "source": [
    "data = ascii.read(\"ngc1027_pyupmask_final.csv\")\n",
    "data"
   ]
  },
  {
   "cell_type": "code",
   "execution_count": 6,
   "id": "3503c5a6",
   "metadata": {},
   "outputs": [
    {
     "data": {
      "text/plain": [
       "602"
      ]
     },
     "execution_count": 6,
     "metadata": {},
     "output_type": "execute_result"
    }
   ],
   "source": [
    "flag_member = np.zeros(len(data))"
   ]
  },
  {
   "cell_type": "code",
   "execution_count": 7,
   "id": "82920fb4",
   "metadata": {},
   "outputs": [],
   "source": [
    "kk, = np.where(data[\"probs_final\"]>0.7)"
   ]
  },
  {
   "cell_type": "code",
   "execution_count": 8,
   "id": "abbc5614",
   "metadata": {},
   "outputs": [],
   "source": [
    "flag_member[kk] = 1"
   ]
  },
  {
   "cell_type": "code",
   "execution_count": 14,
   "id": "6f2cf6a0",
   "metadata": {},
   "outputs": [
    {
     "data": {
      "text/plain": [
       "0.9863"
      ]
     },
     "execution_count": 14,
     "metadata": {},
     "output_type": "execute_result"
    }
   ],
   "source": [
    "data[\"probs_final\"][70]"
   ]
  },
  {
   "cell_type": "code",
   "execution_count": 15,
   "id": "0b6d66d9",
   "metadata": {},
   "outputs": [
    {
     "data": {
      "text/plain": [
       "1.0"
      ]
     },
     "execution_count": 15,
     "metadata": {},
     "output_type": "execute_result"
    }
   ],
   "source": [
    "flag_member[70]"
   ]
  },
  {
   "cell_type": "code",
   "execution_count": 16,
   "id": "a7ab0cc2",
   "metadata": {},
   "outputs": [],
   "source": [
    "data.add_column(flag_member) "
   ]
  },
  {
   "cell_type": "code",
   "execution_count": 17,
   "id": "5d002851",
   "metadata": {},
   "outputs": [
    {
     "data": {
      "text/html": [
       "<div><i>Table length=602</i>\n",
       "<table id=\"table135514070821904\" class=\"table-striped table-bordered table-condensed\">\n",
       "<thead><tr><th>RA_ICRS</th><th>DE_ICRS</th><th>Source</th><th>e_RA_ICRS</th><th>e_DE_ICRS</th><th>Plx</th><th>e_Plx</th><th>PM_1</th><th>pmRA</th><th>e_pmRA</th><th>pmDE</th><th>e_pmDE</th><th>Solved</th><th>nueff</th><th>pscol</th><th>RUWE</th><th>Gmag</th><th>BPmag</th><th>RPmag</th><th>BP-RP</th><th>RV</th><th>e_RV</th><th>ELAT</th><th>RAJ2000</th><th>DEJ2000</th><th>phot_bp_rp_excess_factor_2a</th><th>phot_bp_rp_excess_factor_corr</th><th>Plx_corr</th><th>probs_final</th><th>col29</th></tr></thead>\n",
       "<thead><tr><th>float64</th><th>float64</th><th>int64</th><th>float64</th><th>float64</th><th>float64</th><th>float64</th><th>float64</th><th>float64</th><th>float64</th><th>float64</th><th>float64</th><th>int64</th><th>float64</th><th>float64</th><th>float64</th><th>float64</th><th>float64</th><th>float64</th><th>float64</th><th>float64</th><th>float64</th><th>float64</th><th>float64</th><th>float64</th><th>float64</th><th>float64</th><th>float64</th><th>float64</th><th>float64</th></tr></thead>\n",
       "<tr><td>41.102154</td><td>60.751884</td><td>464819605794855552</td><td>0.0559</td><td>0.0676</td><td>0.616</td><td>0.1034</td><td>2.402</td><td>-1.443</td><td>0.091</td><td>1.92</td><td>0.091</td><td>31</td><td>1.388</td><td>0.0</td><td>1.006</td><td>17.73438</td><td>18.559717</td><td>16.872322</td><td>1.687395</td><td>0.0</td><td>0.0</td><td>42.279453</td><td>41.102165</td><td>60.751877</td><td>1.2702895</td><td>-0.023056831</td><td>0.644894</td><td>0.0</td><td>0.0</td></tr>\n",
       "<tr><td>40.93392</td><td>60.707798</td><td>464819915032423680</td><td>0.0771</td><td>0.0915</td><td>0.9722</td><td>0.1337</td><td>2.303</td><td>-1.492</td><td>0.13</td><td>1.755</td><td>0.127</td><td>31</td><td>1.332</td><td>0.0</td><td>1.032</td><td>18.265734</td><td>19.336851</td><td>17.237455</td><td>2.099396</td><td>0.0</td><td>0.0</td><td>42.272522</td><td>40.933933</td><td>60.70779</td><td>1.3556436</td><td>0.006881025</td><td>0.997428</td><td>0.0</td><td>0.0</td></tr>\n",
       "<tr><td>41.971367</td><td>60.869427</td><td>464833766309733248</td><td>0.008</td><td>0.0088</td><td>0.8965</td><td>0.0135</td><td>2.625</td><td>-1.53</td><td>0.013</td><td>2.133</td><td>0.012</td><td>31</td><td>1.545</td><td>0.0</td><td>0.97</td><td>13.546622</td><td>13.889764</td><td>13.031779</td><td>0.857985</td><td>0.0</td><td>0.0</td><td>42.21656</td><td>41.971382</td><td>60.869415</td><td>1.2050198</td><td>0.00063459</td><td>0.9302309999999999</td><td>0.0016</td><td>0.0</td></tr>\n",
       "<tr><td>41.65688</td><td>60.831924</td><td>464835445634360960</td><td>0.0838</td><td>0.091</td><td>0.5969</td><td>0.1512</td><td>2.42</td><td>-1.698</td><td>0.137</td><td>1.724</td><td>0.119</td><td>31</td><td>1.331</td><td>0.0</td><td>0.971</td><td>18.286827</td><td>19.312056</td><td>17.303177</td><td>2.008879</td><td>0.0</td><td>0.0</td><td>42.243526</td><td>41.656895</td><td>60.831917</td><td>1.3236139</td><td>-0.012531909</td><td>0.621899</td><td>0.0002</td><td>0.0</td></tr>\n",
       "<tr><td>41.851685</td><td>60.892326</td><td>464836652527754368</td><td>0.0082</td><td>0.0091</td><td>0.9197</td><td>0.0136</td><td>2.608</td><td>-1.809</td><td>0.013</td><td>1.878</td><td>0.012</td><td>31</td><td>1.54</td><td>0.0</td><td>1.006</td><td>12.826741</td><td>13.18269</td><td>12.293089</td><td>0.889601</td><td>0.0</td><td>0.0</td><td>42.260834</td><td>41.8517</td><td>60.89232</td><td>1.2106379</td><td>0.0035945917</td><td>0.941174</td><td>0.0</td><td>0.0</td></tr>\n",
       "<tr><td>41.83839</td><td>60.91178</td><td>464837408441994624</td><td>0.0172</td><td>0.0211</td><td>0.6646</td><td>0.0313</td><td>3.204</td><td>-2.082</td><td>0.028</td><td>2.435</td><td>0.028</td><td>31</td><td>1.403</td><td>0.0</td><td>0.971</td><td>15.608692</td><td>16.358255</td><td>14.755588</td><td>1.602668</td><td>0.0</td><td>0.0</td><td>42.281254</td><td>41.83841</td><td>60.911774</td><td>1.2871526</td><td>0.0044630626</td><td>0.698924</td><td>0.0</td><td>0.0</td></tr>\n",
       "<tr><td>...</td><td>...</td><td>...</td><td>...</td><td>...</td><td>...</td><td>...</td><td>...</td><td>...</td><td>...</td><td>...</td><td>...</td><td>...</td><td>...</td><td>...</td><td>...</td><td>...</td><td>...</td><td>...</td><td>...</td><td>...</td><td>...</td><td>...</td><td>...</td><td>...</td><td>...</td><td>...</td><td>...</td><td>...</td><td>...</td></tr>\n",
       "<tr><td>40.610764</td><td>62.316387</td><td>465994056012322816</td><td>0.1005</td><td>0.1224</td><td>0.7535</td><td>0.1611</td><td>3.276</td><td>-2.183</td><td>0.157</td><td>2.443</td><td>0.162</td><td>95</td><td>0.0</td><td>1.3367</td><td>0.998</td><td>18.705412</td><td>19.557</td><td>17.71741</td><td>1.83959</td><td>0.0</td><td>0.0</td><td>43.801617</td><td>40.610786</td><td>62.316376</td><td>1.3767202</td><td>0.06354248</td><td>0.7787569999999999</td><td>0.0001</td><td>0.0</td></tr>\n",
       "<tr><td>40.35213</td><td>62.384457</td><td>465997118335548672</td><td>0.0113</td><td>0.0147</td><td>0.96</td><td>0.0199</td><td>2.535</td><td>-1.906</td><td>0.019</td><td>1.672</td><td>0.021</td><td>95</td><td>0.0</td><td>1.5934</td><td>1.245</td><td>11.635002</td><td>11.86583</td><td>11.239923</td><td>0.625908</td><td>0.0</td><td>0.0</td><td>43.913765</td><td>40.35215</td><td>62.38445</td><td>1.1920058</td><td>0.004971739</td><td>0.9956229999999999</td><td>0.0</td><td>0.0</td></tr>\n",
       "<tr><td>40.33314</td><td>62.399323</td><td>465997182748737792</td><td>0.1103</td><td>0.1393</td><td>0.7358</td><td>0.1915</td><td>3.1</td><td>-1.95</td><td>0.175</td><td>2.411</td><td>0.176</td><td>31</td><td>1.373</td><td>0.0</td><td>0.909</td><td>18.82205</td><td>19.695324</td><td>17.912325</td><td>1.782999</td><td>0.0</td><td>0.0</td><td>43.930954</td><td>40.33316</td><td>62.39931</td><td>1.297434</td><td>-0.008272215</td><td>0.753375</td><td>0.0</td><td>0.0</td></tr>\n",
       "<tr><td>40.929176</td><td>62.43001</td><td>466019207341152256</td><td>0.0233</td><td>0.0276</td><td>0.9167</td><td>0.0369</td><td>2.785</td><td>-2.045</td><td>0.036</td><td>1.891</td><td>0.038</td><td>31</td><td>1.425</td><td>0.0</td><td>1.128</td><td>15.846997</td><td>16.483763</td><td>14.985683</td><td>1.498079</td><td>0.0</td><td>0.0</td><td>43.843212</td><td>40.929195</td><td>62.430004</td><td>1.333971</td><td>0.06401843</td><td>0.9498169999999999</td><td>0.0</td><td>0.0</td></tr>\n",
       "<tr><td>40.697094</td><td>62.460396</td><td>466021582466214656</td><td>0.0662</td><td>0.0729</td><td>0.6139</td><td>0.1029</td><td>2.602</td><td>-2.154</td><td>0.104</td><td>1.46</td><td>0.101</td><td>31</td><td>1.398</td><td>0.0</td><td>0.987</td><td>17.94505</td><td>18.726357</td><td>17.10479</td><td>1.621567</td><td>0.0</td><td>0.0</td><td>43.91566</td><td>40.697113</td><td>62.46039</td><td>1.265813</td><td>-0.019228302</td><td>0.640252</td><td>0.0</td><td>0.0</td></tr>\n",
       "<tr><td>40.418877</td><td>62.564526</td><td>466034982764139008</td><td>0.0083</td><td>0.0102</td><td>0.9564</td><td>0.0162</td><td>2.989</td><td>-1.798</td><td>0.015</td><td>2.388</td><td>0.015</td><td>31</td><td>1.53</td><td>0.0</td><td>0.948</td><td>13.865103</td><td>14.244426</td><td>13.308497</td><td>0.935928</td><td>0.0</td><td>0.0</td><td>44.0641</td><td>40.418896</td><td>62.564518</td><td>1.2142115</td><td>0.0031523046</td><td>0.9893660000000001</td><td>0.0003</td><td>0.0</td></tr>\n",
       "<tr><td>41.80371</td><td>62.45447</td><td>467323507313318784</td><td>0.1184</td><td>0.1305</td><td>0.7424</td><td>0.2034</td><td>2.291</td><td>-1.656</td><td>0.191</td><td>1.584</td><td>0.201</td><td>31</td><td>1.373</td><td>0.0</td><td>1.046</td><td>18.726578</td><td>19.580276</td><td>17.82457</td><td>1.755707</td><td>0.0</td><td>0.0</td><td>43.69822</td><td>41.803726</td><td>62.454464</td><td>1.2964448</td><td>-0.0056984834</td><td>0.761018</td><td>0.0</td><td>0.0</td></tr>\n",
       "</table></div>"
      ],
      "text/plain": [
       "<Table length=602>\n",
       " RA_ICRS   DE_ICRS        Source       ... probs_final  col29 \n",
       " float64   float64        int64        ...   float64   float64\n",
       "--------- --------- ------------------ ... ----------- -------\n",
       "41.102154 60.751884 464819605794855552 ...         0.0     0.0\n",
       " 40.93392 60.707798 464819915032423680 ...         0.0     0.0\n",
       "41.971367 60.869427 464833766309733248 ...      0.0016     0.0\n",
       " 41.65688 60.831924 464835445634360960 ...      0.0002     0.0\n",
       "41.851685 60.892326 464836652527754368 ...         0.0     0.0\n",
       " 41.83839  60.91178 464837408441994624 ...         0.0     0.0\n",
       "      ...       ...                ... ...         ...     ...\n",
       "40.610764 62.316387 465994056012322816 ...      0.0001     0.0\n",
       " 40.35213 62.384457 465997118335548672 ...         0.0     0.0\n",
       " 40.33314 62.399323 465997182748737792 ...         0.0     0.0\n",
       "40.929176  62.43001 466019207341152256 ...         0.0     0.0\n",
       "40.697094 62.460396 466021582466214656 ...         0.0     0.0\n",
       "40.418877 62.564526 466034982764139008 ...      0.0003     0.0\n",
       " 41.80371  62.45447 467323507313318784 ...         0.0     0.0"
      ]
     },
     "execution_count": 17,
     "metadata": {},
     "output_type": "execute_result"
    }
   ],
   "source": [
    "data"
   ]
  },
  {
   "cell_type": "code",
   "execution_count": 19,
   "id": "110fbe28",
   "metadata": {},
   "outputs": [],
   "source": [
    "data.rename_column('col29', 'flag_member')"
   ]
  },
  {
   "cell_type": "code",
   "execution_count": 22,
   "id": "9527404d",
   "metadata": {},
   "outputs": [
    {
     "data": {
      "text/plain": [
       "True"
      ]
     },
     "execution_count": 22,
     "metadata": {},
     "output_type": "execute_result"
    }
   ],
   "source": []
  },
  {
   "cell_type": "code",
   "execution_count": 30,
   "id": "bceb3664",
   "metadata": {},
   "outputs": [],
   "source": [
    "#ascii.write(data, 'ngc1027_probs.csv', format='csv', fast_writer=False, overwrite=True)  "
   ]
  },
  {
   "cell_type": "code",
   "execution_count": null,
   "id": "98d734ca",
   "metadata": {},
   "outputs": [],
   "source": []
  }
 ],
 "metadata": {
  "kernelspec": {
   "display_name": "Python 3 (ipykernel)",
   "language": "python",
   "name": "python3"
  },
  "language_info": {
   "codemirror_mode": {
    "name": "ipython",
    "version": 3
   },
   "file_extension": ".py",
   "mimetype": "text/x-python",
   "name": "python",
   "nbconvert_exporter": "python",
   "pygments_lexer": "ipython3",
   "version": "3.9.18"
  }
 },
 "nbformat": 4,
 "nbformat_minor": 5
}
