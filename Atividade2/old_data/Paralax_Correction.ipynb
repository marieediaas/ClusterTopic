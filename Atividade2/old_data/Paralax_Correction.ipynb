{
 "cells": [
  {
   "cell_type": "markdown",
   "id": "c2e372b9",
   "metadata": {},
   "source": [
    "[How to use the python package of correction.](https://gitlab.com/icc-ub/public/gaiadr3_zeropoint) \n",
    "\n",
    "[Lindegren 2021: Parallax bias versus magnitude, colour, and position](https://www.aanda.org/articles/aa/full_html/2021/05/aa39653-20/aa39653-20.html)"
   ]
  },
  {
   "cell_type": "code",
   "execution_count": 1,
   "id": "7024ae6e",
   "metadata": {},
   "outputs": [],
   "source": [
    "import numpy as np\n",
    "import pandas as pd\n",
    "from astropy.io import ascii\n",
    "\n",
    "from zero_point import zpt\n",
    "zpt.load_tables()"
   ]
  },
  {
   "cell_type": "code",
   "execution_count": 2,
   "id": "5ec8d871",
   "metadata": {},
   "outputs": [
    {
     "name": "stdout",
     "output_type": "stream",
     "text": [
      "Help on function get_zpt in module zero_point.zpt:\n",
      "\n",
      "get_zpt(phot_g_mean_mag, nu_eff_used_in_astrometry, pseudocolour, ecl_lat, astrometric_params_solved, _warnings=True)\n",
      "    Returns the parallax zero point [mas] for a source of given G magnitude, effective wavenumber (nuEff) [1/micron],\n",
      "    pseudocolour (pc) [1/micron], and ecl_lat [degrees]. It also needs the astrometric_params_solved to discern\n",
      "    between 5-p and 6-p solutions. Valid for 5- and 6-parameter solutions with 6<G<21 and 1.1<nuEff<1.9,\n",
      "    1.24<pc<1.72. Outside these ranges, the function can return a very imprecise zero-point.\n",
      "    \n",
      "    The inputs can be either floats or an iterable (ndarray, list or tuple). In case of the later, their shape must\n",
      "    be the same and equal to (N,), where N is the number of sources.\n",
      "    \n",
      "    Usage: parallax_corrected = parallax_catalogue - zero_point\n",
      "    \n",
      "    Original code: @LL 2020-07-14\n",
      "    \n",
      "    NOTE: if any of the inputs values is NaN, the output will be NaN. Also, if the warnings are turned off and the\n",
      "    source probided falls outside the valid range specified above, its zero-point will be NaN.\n",
      "    \n",
      "    Input:\n",
      "        phot_g_mean_mag [mag]\n",
      "        nu_eff_used_in_astrometry [1/micron]\n",
      "        pseudocolour [1/micron]\n",
      "        ecl_lat [degrees]\n",
      "        astrometric_params_solved (3 -> 2p, 31 -> 5p, 95 -> 6p)\n",
      "    \n",
      "    Output:\n",
      "        correction in mas (milliarcsecond, not micro).\n",
      "\n"
     ]
    }
   ],
   "source": [
    "help(zpt.get_zpt) "
   ]
  },
  {
   "cell_type": "code",
   "execution_count": null,
   "id": "6365f724",
   "metadata": {
    "scrolled": false
   },
   "outputs": [],
   "source": [
    "data = ascii.read('ngc5822_vizier1.fit')"
   ]
  },
  {
   "cell_type": "code",
   "execution_count": null,
   "id": "7e7a26cb",
   "metadata": {},
   "outputs": [],
   "source": [
    "#table with the data that you're using from gaiadr3\n",
    "data = ascii.read('ngc5822_vizier1.fit')\n",
    "\n",
    "#data used for applying the correction\n",
    "gmag = data['phot_g_mean_mag'].values\n",
    "nueffused = data['nu_eff_used_in_astrometry'].values\n",
    "psc = data['pseudocolour'].values\n",
    "ecl_lat = data['ecl_lat'].values\n",
    "soltype = data['astrometric_params_solved'].values"
   ]
  },
  {
   "cell_type": "code",
   "execution_count": null,
   "id": "818341dc",
   "metadata": {},
   "outputs": [],
   "source": [
    "zpvals = zpt.get_zpt(gmag, nueffused, psc, ecl_lat, soltype)\n",
    "\n",
    "valid = soltype>3\n",
    "zpvals = zpt.get_zpt(gmag[valid], nueffused[valid], psc[valid], \n",
    "                     ecl_lat[valid], soltype[valid],_warnings=False)"
   ]
  },
  {
   "cell_type": "code",
   "execution_count": null,
   "id": "e5422448",
   "metadata": {},
   "outputs": [],
   "source": [
    "#adding the value of correction at the end of the table\n",
    "#this step is not necessary, you can make just the correction and add in the table\n",
    "data.add_column(zpvals, name='zp_plx_corr')   "
   ]
  },
  {
   "cell_type": "code",
   "execution_count": null,
   "id": "4906837d",
   "metadata": {},
   "outputs": [],
   "source": [
    "#applying correction in the parallax\n",
    "plx = data[\"parallax\"] - data[\"zp_plx_corr\"] \n",
    "\n",
    "#adding correction in the parallax at the end of the table\n",
    "data.add_column(plx, name='plx')             "
   ]
  }
 ],
 "metadata": {
  "kernelspec": {
   "display_name": "Python 3 (ipykernel)",
   "language": "python",
   "name": "python3"
  },
  "language_info": {
   "codemirror_mode": {
    "name": "ipython",
    "version": 3
   },
   "file_extension": ".py",
   "mimetype": "text/x-python",
   "name": "python",
   "nbconvert_exporter": "python",
   "pygments_lexer": "ipython3",
   "version": "3.9.18"
  }
 },
 "nbformat": 4,
 "nbformat_minor": 5
}
