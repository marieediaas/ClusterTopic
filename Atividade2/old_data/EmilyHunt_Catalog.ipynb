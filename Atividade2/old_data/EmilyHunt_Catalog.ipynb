{
 "cells": [
  {
   "cell_type": "code",
   "execution_count": 1,
   "id": "eec47f0a",
   "metadata": {},
   "outputs": [],
   "source": [
    "import numpy as np\n",
    "import pandas as pd\n",
    "from astropy.io import ascii\n",
    "import os\n",
    "import matplotlib.pyplot as plt\n",
    "from scipy.optimize import curve_fit"
   ]
  },
  {
   "cell_type": "markdown",
   "id": "6d85cc03",
   "metadata": {},
   "source": [
    "[Emily Hunt's Catalogue](https://www.aanda.org/articles/aa/abs/2023/05/aa46285-23/aa46285-23.html)"
   ]
  },
  {
   "cell_type": "markdown",
   "id": "8de40f34",
   "metadata": {},
   "source": [
    "[Drive Emily Hunt](https://drive.google.com/drive/folders/1qukVWjCfG7n7Za23xTp9he4L3icPTyFu)"
   ]
  },
  {
   "cell_type": "code",
   "execution_count": null,
   "id": "0249c55c",
   "metadata": {},
   "outputs": [],
   "source": []
  }
 ],
 "metadata": {
  "kernelspec": {
   "display_name": "Python 3 (ipykernel)",
   "language": "python",
   "name": "python3"
  },
  "language_info": {
   "codemirror_mode": {
    "name": "ipython",
    "version": 3
   },
   "file_extension": ".py",
   "mimetype": "text/x-python",
   "name": "python",
   "nbconvert_exporter": "python",
   "pygments_lexer": "ipython3",
   "version": "3.9.18"
  }
 },
 "nbformat": 4,
 "nbformat_minor": 5
}
