{
 "cells": [
  {
   "cell_type": "code",
   "execution_count": 2,
   "id": "3b8d488f",
   "metadata": {},
   "outputs": [],
   "source": [
    "import numpy as np\n",
    "import pandas as pd\n",
    "from astropy.io import ascii"
   ]
  },
  {
   "cell_type": "markdown",
   "id": "1b2b3648",
   "metadata": {},
   "source": [
    "#if the package is not installed, then do\n",
    "pip install gaiadr3-zeropoint"
   ]
  },
  {
   "cell_type": "markdown",
   "id": "6360798d",
   "metadata": {},
   "source": [
    "## Paralax Correction of Gaia DR3 data"
   ]
  },
  {
   "cell_type": "markdown",
   "id": "5371f7c1",
   "metadata": {},
   "source": [
    "[How to use the python package of correction.](https://gitlab.com/icc-ub/public/gaiadr3_zeropoint) \n",
    "\n",
    "[Lindegren 2021: Parallax bias versus magnitude, colour, and position](https://www.aanda.org/articles/aa/full_html/2021/05/aa39653-20/aa39653-20.html)"
   ]
  },
  {
   "cell_type": "code",
   "execution_count": 3,
   "id": "7aa68c47",
   "metadata": {
    "scrolled": true
   },
   "outputs": [
    {
     "name": "stderr",
     "output_type": "stream",
     "text": [
      "/home/usuario/yes/lib/python3.9/site-packages/zero_point/zpt.py:220: UserWarning: The nu_eff_used_in_astrometry of some of the 5p source(s) is outside the expected range (1.1-1.9 \n",
      "                mag). Outside this range, the zero-point calculated can be seriously wrong.\n",
      "  warnings.warn(\n",
      "/home/usuario/yes/lib/python3.9/site-packages/zero_point/zpt.py:233: UserWarning: The pseudocolour of some of the 6p source(s) is outside the expected range (1.24-1.72 mag).\n",
      "                 The maximum corrections are reached already at 1.24 and 1.72\n",
      "  warnings.warn(\n"
     ]
    }
   ],
   "source": [
    "data = pd.read_csv('query1-result.csv')\n",
    "\n",
    "%run -i /home/usuario/Documents/Notebooks/ClusterTopic/Atividade2/Filipe/plxcorr_filipe.py"
   ]
  },
  {
   "cell_type": "markdown",
   "id": "d8003015",
   "metadata": {},
   "source": [
    "## Limiting the quality"
   ]
  },
  {
   "cell_type": "code",
   "execution_count": 5,
   "id": "d496c94c",
   "metadata": {},
   "outputs": [],
   "source": [
    "data = ascii.read(\"ngc5288_gaia_plxcorr\") "
   ]
  },
  {
   "cell_type": "code",
   "execution_count": null,
   "id": "932fa5eb",
   "metadata": {},
   "outputs": [],
   "source": []
  },
  {
   "cell_type": "code",
   "execution_count": 6,
   "id": "0986495c",
   "metadata": {},
   "outputs": [],
   "source": [
    "plx = data[\"parallax\"] - data[\"zp_plx_corr\"]  #applying correction in the parallax\n",
    "\n",
    "data.add_column(plx, name='plx')              #aadding correction in the parallax at the end of the table"
   ]
  },
  {
   "cell_type": "code",
   "execution_count": 9,
   "id": "38229ea7",
   "metadata": {},
   "outputs": [],
   "source": [
    "#data = pd.read_csv('ngc5288_gaia_plxcorr.fits')"
   ]
  },
  {
   "cell_type": "code",
   "execution_count": 8,
   "id": "131a6d78",
   "metadata": {},
   "outputs": [],
   "source": [
    "c0 = 0.0059898\n",
    "c1 = 8.817481E-12\n",
    "m = 7.618399\n",
    "\n",
    "ruwe_limit=1.4\n",
    "N=5"
   ]
  },
  {
   "cell_type": "code",
   "execution_count": 9,
   "id": "4735dd9e",
   "metadata": {},
   "outputs": [],
   "source": [
    "sigma_c= c0 + c1*data[\"phot_g_mean_mag\"]**m\n",
    "C_ast = np.sqrt(data[\"phot_bp_rp_excess_factor_corr\"]**2)"
   ]
  },
  {
   "cell_type": "code",
   "execution_count": 10,
   "id": "b78a7676",
   "metadata": {},
   "outputs": [],
   "source": [
    "kk, = np.where((C_ast - N*sigma_c < 0) & (data[\"ruwe\"] > 1.0) & (data[\"ruwe\"] < 1.4))"
   ]
  },
  {
   "cell_type": "code",
   "execution_count": 12,
   "id": "a071417f",
   "metadata": {},
   "outputs": [],
   "source": [
    "ascii.write(data[kk], 'ngc5288_gaia_cutquality.csv', format='csv')\n",
    "#ascii.write(data[kk], 'ngc5288_gaia_cutquality.csv', format='csv', overwrite=True)"
   ]
  },
  {
   "cell_type": "code",
   "execution_count": null,
   "id": "6a74b3ba",
   "metadata": {},
   "outputs": [],
   "source": []
  }
 ],
 "metadata": {
  "kernelspec": {
   "display_name": "Python 3 (ipykernel)",
   "language": "python",
   "name": "python3"
  },
  "language_info": {
   "codemirror_mode": {
    "name": "ipython",
    "version": 3
   },
   "file_extension": ".py",
   "mimetype": "text/x-python",
   "name": "python",
   "nbconvert_exporter": "python",
   "pygments_lexer": "ipython3",
   "version": "3.9.18"
  }
 },
 "nbformat": 4,
 "nbformat_minor": 5
}
